{
 "cells": [
  {
   "cell_type": "markdown",
   "id": "76ca766b-b6e6-4ac3-b113-5b47fd7a19f9",
   "metadata": {},
   "source": [
    "##### Install docker with snap in Ubuntu 22.04:"
   ]
  },
  {
   "cell_type": "markdown",
   "id": "adc6faf3-0f79-443b-83ee-767296739cf6",
   "metadata": {},
   "source": [
    "```bash\n",
    "# Install Snap\n",
    "sudo apt update\n",
    "sudo apt install snapd\n",
    "\n",
    "# Insall Docker with Snap\n",
    "sudo snap install docker\n",
    "\n",
    "# Verify installation\n",
    "docker --version\n",
    "\n",
    "# Add your user to the docker group\n",
    "sudo usermod -aG docker $USER\n",
    "```"
   ]
  },
  {
   "cell_type": "code",
   "execution_count": null,
   "id": "41c05b6e-e9d4-4f53-935b-7770d002e59a",
   "metadata": {},
   "outputs": [],
   "source": []
  }
 ],
 "metadata": {
  "kernelspec": {
   "display_name": "Python 3 (ipykernel)",
   "language": "python",
   "name": "python3"
  },
  "language_info": {
   "codemirror_mode": {
    "name": "ipython",
    "version": 3
   },
   "file_extension": ".py",
   "mimetype": "text/x-python",
   "name": "python",
   "nbconvert_exporter": "python",
   "pygments_lexer": "ipython3",
   "version": "3.10.12"
  }
 },
 "nbformat": 4,
 "nbformat_minor": 5
}
